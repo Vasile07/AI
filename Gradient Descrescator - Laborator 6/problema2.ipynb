{
 "cells": [
  {
   "cell_type": "code",
   "execution_count": 51,
   "metadata": {},
   "outputs": [],
   "source": [
    "from ucimlrepo import fetch_ucirepo \n",
    "import pandas as pd\n",
    "import numpy as np\n",
    "import matplotlib.pyplot as plt\n",
    "from sklearn.linear_model import SGDClassifier"
   ]
  },
  {
   "cell_type": "code",
   "execution_count": 75,
   "metadata": {},
   "outputs": [],
   "source": [
    "from math import exp\n",
    "\n",
    "def sigmoid(x):\n",
    "    return 1/(1 + exp(-x))\n",
    "\n",
    "class MyLinnearRegressor:\n",
    "\n",
    "    def __init__(self) -> None:\n",
    "        self.W = []\n",
    "        self.dict = {}\n",
    "        \n",
    "    def train(self, input_set, output_set, learning_rate=0.001, noEpochs=100):\n",
    "        count = 0\n",
    "    \n",
    "        for value in set(output_set):\n",
    "            self.dict[value] = count\n",
    "            count += 1\n",
    "        \n",
    "        X = [[1] + line for line in input_set]\n",
    "        m = len(X[0])\n",
    "        for i in range(m):\n",
    "            self.W.append(np.random.random())\n",
    "\n",
    "        for _ in range(noEpochs):\n",
    "            errors = []\n",
    "            for i in range(m):\n",
    "                errors.append(0.0)\n",
    "\n",
    "            for input_line, output_line in zip(X, output_set):\n",
    "\n",
    "                prediction = sum(input_line[j] * self.W[j] for j in range(m))\n",
    "                error = self.dict[output_line] - prediction\n",
    "\n",
    "                for j in range(m):\n",
    "                    errors[j] += error * input_line[j]\n",
    "\n",
    "            for j in range(m):\n",
    "                self.W[j] += learning_rate * errors[j] / len(input_set)\n",
    "\n",
    "    def find_key_by_value(self,value):\n",
    "        for key in self.dict.keys():\n",
    "            if self.dict[key] == value:\n",
    "                return key\n",
    "        return None\n",
    "\n",
    "    def predict(self, input_set):\n",
    "        X = [[1] + line for line in input_set]\n",
    "        output_set = []\n",
    "        for line in X:\n",
    "            value = sum([w*v for w,v in zip(self.W,line)])\n",
    "            if value > 0.5:\n",
    "                output_set.append(self.find_key_by_value(1))\n",
    "            else:\n",
    "                output_set.append(self.find_key_by_value(0))\n",
    "                \n",
    "        return output_set"
   ]
  },
  {
   "cell_type": "code",
   "execution_count": 76,
   "metadata": {},
   "outputs": [],
   "source": [
    "from sklearn.preprocessing import normalize\n",
    "def read_datas():\n",
    "    breast_cancer_wisconsin_diagnostic = fetch_ucirepo(id=17)   \n",
    "    X = breast_cancer_wisconsin_diagnostic.data.features \n",
    "    y = breast_cancer_wisconsin_diagnostic.data.targets \n",
    "\n",
    "    # new_data = {\n",
    "    #     'Radius': normalize([X['radius1']])[0],\n",
    "    #     'Texture': normalize([X['texture1']])[0],\n",
    "    #     'Diagnosis': y['Diagnosis']\n",
    "    # }\n",
    "\n",
    "    new_data = {\n",
    "        'Radius': X['radius1'],\n",
    "        'Texture': X['texture1'],\n",
    "        'Diagnosis': y['Diagnosis']\n",
    "    }\n",
    "\n",
    "    df = pd.DataFrame(new_data)\n",
    "\n",
    "    return df\n",
    "    "
   ]
  },
  {
   "cell_type": "code",
   "execution_count": 77,
   "metadata": {},
   "outputs": [
    {
     "data": {
      "text/html": [
       "<div>\n",
       "<style scoped>\n",
       "    .dataframe tbody tr th:only-of-type {\n",
       "        vertical-align: middle;\n",
       "    }\n",
       "\n",
       "    .dataframe tbody tr th {\n",
       "        vertical-align: top;\n",
       "    }\n",
       "\n",
       "    .dataframe thead th {\n",
       "        text-align: right;\n",
       "    }\n",
       "</style>\n",
       "<table border=\"1\" class=\"dataframe\">\n",
       "  <thead>\n",
       "    <tr style=\"text-align: right;\">\n",
       "      <th></th>\n",
       "      <th>Radius</th>\n",
       "      <th>Texture</th>\n",
       "      <th>Diagnosis</th>\n",
       "    </tr>\n",
       "  </thead>\n",
       "  <tbody>\n",
       "    <tr>\n",
       "      <th>0</th>\n",
       "      <td>17.99</td>\n",
       "      <td>10.38</td>\n",
       "      <td>M</td>\n",
       "    </tr>\n",
       "    <tr>\n",
       "      <th>1</th>\n",
       "      <td>20.57</td>\n",
       "      <td>17.77</td>\n",
       "      <td>M</td>\n",
       "    </tr>\n",
       "    <tr>\n",
       "      <th>2</th>\n",
       "      <td>19.69</td>\n",
       "      <td>21.25</td>\n",
       "      <td>M</td>\n",
       "    </tr>\n",
       "    <tr>\n",
       "      <th>3</th>\n",
       "      <td>11.42</td>\n",
       "      <td>20.38</td>\n",
       "      <td>M</td>\n",
       "    </tr>\n",
       "    <tr>\n",
       "      <th>4</th>\n",
       "      <td>20.29</td>\n",
       "      <td>14.34</td>\n",
       "      <td>M</td>\n",
       "    </tr>\n",
       "    <tr>\n",
       "      <th>...</th>\n",
       "      <td>...</td>\n",
       "      <td>...</td>\n",
       "      <td>...</td>\n",
       "    </tr>\n",
       "    <tr>\n",
       "      <th>564</th>\n",
       "      <td>21.56</td>\n",
       "      <td>22.39</td>\n",
       "      <td>M</td>\n",
       "    </tr>\n",
       "    <tr>\n",
       "      <th>565</th>\n",
       "      <td>20.13</td>\n",
       "      <td>28.25</td>\n",
       "      <td>M</td>\n",
       "    </tr>\n",
       "    <tr>\n",
       "      <th>566</th>\n",
       "      <td>16.60</td>\n",
       "      <td>28.08</td>\n",
       "      <td>M</td>\n",
       "    </tr>\n",
       "    <tr>\n",
       "      <th>567</th>\n",
       "      <td>20.60</td>\n",
       "      <td>29.33</td>\n",
       "      <td>M</td>\n",
       "    </tr>\n",
       "    <tr>\n",
       "      <th>568</th>\n",
       "      <td>7.76</td>\n",
       "      <td>24.54</td>\n",
       "      <td>B</td>\n",
       "    </tr>\n",
       "  </tbody>\n",
       "</table>\n",
       "<p>569 rows × 3 columns</p>\n",
       "</div>"
      ],
      "text/plain": [
       "     Radius  Texture Diagnosis\n",
       "0     17.99    10.38         M\n",
       "1     20.57    17.77         M\n",
       "2     19.69    21.25         M\n",
       "3     11.42    20.38         M\n",
       "4     20.29    14.34         M\n",
       "..      ...      ...       ...\n",
       "564   21.56    22.39         M\n",
       "565   20.13    28.25         M\n",
       "566   16.60    28.08         M\n",
       "567   20.60    29.33         M\n",
       "568    7.76    24.54         B\n",
       "\n",
       "[569 rows x 3 columns]"
      ]
     },
     "execution_count": 77,
     "metadata": {},
     "output_type": "execute_result"
    }
   ],
   "source": [
    "df = read_datas()\n",
    "df"
   ]
  },
  {
   "cell_type": "code",
   "execution_count": 78,
   "metadata": {},
   "outputs": [],
   "source": [
    "def getTrainingAndValidationData():\n",
    "    df = read_datas()\n",
    "\n",
    "    dataSize = df.shape[0]\n",
    "    trainingIndexSet = np.random.choice(range(dataSize),size=int(0.8 * dataSize),replace=False)\n",
    "    validationIndexSet = [i for i in range(dataSize) if i not in trainingIndexSet] \n",
    "\n",
    "    trainingInputSet = [[df['Radius'].iloc[i],df['Texture'].iloc[i]] for i in trainingIndexSet]\n",
    "    trainingOutputSet = [df['Diagnosis'].iloc[i] for i in trainingIndexSet]\n",
    "\n",
    "    validationInputSet = [[df['Radius'].iloc[i],df['Texture'].iloc[i]] for i in validationIndexSet]\n",
    "    validationOutputSet = [df['Diagnosis'].iloc[i] for i in validationIndexSet]\n",
    "\n",
    "    return trainingInputSet, trainingOutputSet, validationInputSet, validationOutputSet    \n",
    "\n",
    "def getRegressorTool():\n",
    "    trainingInputSet, trainingOutputSet, _, _ = getTrainingAndValidationData()\n",
    "    xx = [el for el in trainingInputSet]\n",
    "\n",
    "    regressor = SGDClassifier()\n",
    "    regressor.fit(xx, trainingOutputSet)\n",
    "\n",
    "    return regressor\n",
    "\n",
    "\n",
    "def getMyRegressor():\n",
    "    trainingInputSet, trainingOutputSet, _, _ = getTrainingAndValidationData()\n",
    "    xx = [el for el in trainingInputSet]\n",
    "\n",
    "    regressor = MyLinnearRegressor()\n",
    "    regressor.train(xx, trainingOutputSet,noEpochs=2000)\n",
    "\n",
    "    return regressor"
   ]
  },
  {
   "cell_type": "code",
   "execution_count": 98,
   "metadata": {},
   "outputs": [],
   "source": [
    "def dataDistribution():\n",
    "    df = read_datas()\n",
    "    fig,axes = plt.subplots(nrows=3,figsize=(15,15))\n",
    "    axes[0].hist(df['Radius'])\n",
    "    axes[0].set_title('Radius')\n",
    "    axes[1].hist(df['Texture'])\n",
    "    axes[1].set_title('Texture')\n",
    "    axes[2].hist(df['Diagnosis'])\n",
    "    axes[2].set_title('Diagnosis')\n",
    "    plt.show()\n",
    "    \n",
    "def plotData():\n",
    "    df = read_datas()\n",
    "    fig,axes = plt.subplots(nrows=1,figsize=(5,5))\n",
    "    radius = df['Radius']\n",
    "    texture = df['Texture']\n",
    "    diagnosis = df['Diagnosis']\n",
    "    m_index = [i for i in range(0, len(diagnosis)) if diagnosis[i] == 'M']\n",
    "    b_index = [i for i in range(0, len(diagnosis)) if diagnosis[i] == 'B']\n",
    "    m_radius = [radius[index] for index in m_index]\n",
    "    b_radius = [radius[index] for index in b_index]\n",
    "    m_texture = [texture[index] for index in m_index]\n",
    "    b_texture = [texture[index] for index in b_index]\n",
    "    axes.plot(m_radius,m_texture,'ro')\n",
    "    axes.plot(b_radius,b_texture,'b*')\n",
    "    plt.show()\n",
    "\n"
   ]
  },
  {
   "cell_type": "markdown",
   "metadata": {},
   "source": [
    "## Data distribution"
   ]
  },
  {
   "cell_type": "code",
   "execution_count": 89,
   "metadata": {},
   "outputs": [
    {
     "data": {
      "image/png": "[encoded data removed]",
      "text/plain": [
       "<Figure size 1500x1500 with 3 Axes>"
      ]
     },
     "metadata": {},
     "output_type": "display_data"
    }
   ],
   "source": [
    "dataDistribution()"
   ]
  },
  {
   "cell_type": "markdown",
   "metadata": {},
   "source": [
    "## Plot data"
   ]
  },
  {
   "cell_type": "code",
   "execution_count": 99,
   "metadata": {},
   "outputs": [
    {
     "data": {
      "image/png": "[encoded data removed]",
      "text/plain": [
       "<Figure size 500x500 with 1 Axes>"
      ]
     },
     "metadata": {},
     "output_type": "display_data"
    }
   ],
   "source": [
    "plotData()"
   ]
  },
  {
   "cell_type": "code",
   "execution_count": 79,
   "metadata": {},
   "outputs": [],
   "source": [
    "# consideram M - positive\n",
    "def get_TP_TN_FP_FN(computedValues,groundTruth):\n",
    "    TP,TN,FP,FN = 0,0,0,0\n",
    "    for cv,gtv in zip(computedValues, groundTruth):\n",
    "        if cv == 'M':\n",
    "            if gtv == 'M':\n",
    "                TP += 1\n",
    "            else:\n",
    "                FP += 1\n",
    "        else:\n",
    "            if gtv == 'M':\n",
    "                FN += 1\n",
    "            else:\n",
    "                TN += 1\n",
    "    return TP,TN,FP,FN\n",
    "\n",
    "def getAccuracy(TP,TN,FP,FN):\n",
    "    if TP+TN+FP+FN == 0:\n",
    "        return 0\n",
    "    return (TP + TN) / (TP+TN+FP+FN)\n",
    "\n",
    "def getPrecision(TP,TN,FP,FN):\n",
    "    if TP + FP == 0:\n",
    "        return 0\n",
    "    return TP/(TP + FP)\n",
    "\n",
    "def getRecall(TP,TN,FP,FN):\n",
    "    if TP+FN == 0:\n",
    "        return 0\n",
    "    return TP/(TP+FN)"
   ]
  },
  {
   "cell_type": "code",
   "execution_count": 80,
   "metadata": {},
   "outputs": [
    {
     "name": "stdout",
     "output_type": "stream",
     "text": [
      "TP: 34; TN: 73; FP: 1; FN: 6\n",
      "Accuracy: 0.9385964912280702\n",
      "Precision: 0.9714285714285714\n",
      "Recall: 0.85\n"
     ]
    }
   ],
   "source": [
    "regressor = getRegressorTool()\n",
    "\n",
    "_,_,validationInputSet,validationOutputSet = getTrainingAndValidationData()\n",
    "\n",
    "computedOutputSet = regressor.predict(validationInputSet)\n",
    "TP,TN,FP,FN = get_TP_TN_FP_FN(computedOutputSet, validationOutputSet)\n",
    "acc = getAccuracy(TP,TN,FP,FN)\n",
    "precision = getPrecision(TP,TN,FP,FN)\n",
    "recall = getRecall(TP,TN,FP,FN)\n",
    "print(\"TP: {}; TN: {}; FP: {}; FN: {}\\nAccuracy: {}\\nPrecision: {}\\nRecall: {}\".format(TP,TN,FP,FN,acc,precision,recall))"
   ]
  },
  {
   "cell_type": "code",
   "execution_count": 84,
   "metadata": {},
   "outputs": [
    {
     "name": "stdout",
     "output_type": "stream",
     "text": [
      "TP: 23; TN: 67; FP: 7; FN: 17\n",
      "Accuracy: 0.7894736842105263\n",
      "Precision: 0.7666666666666667\n",
      "Recall: 0.575\n"
     ]
    }
   ],
   "source": [
    "myregressor = getMyRegressor()\n",
    "computedOutputSet = myregressor.predict(validationInputSet)\n",
    "\n",
    "TP,TN,FP,FN = get_TP_TN_FP_FN(computedOutputSet, validationOutputSet)\n",
    "acc = getAccuracy(TP,TN,FP,FN)\n",
    "precision = getPrecision(TP,TN,FP,FN)\n",
    "recall = getRecall(TP,TN,FP,FN)\n",
    "print(\"TP: {}; TN: {}; FP: {}; FN: {}\\nAccuracy: {}\\nPrecision: {}\\nRecall: {}\".format(TP,TN,FP,FN,acc,precision,recall))"
   ]
  },
  {
   "cell_type": "markdown",
   "metadata": {},
   "source": [
    "Stabiliti daca o leziune (dintr-o mamografie) caracterizata printr-o textura de valoare 10 si o raza de valoare 18 este leziune maligna sau benigna"
   ]
  },
  {
   "cell_type": "code",
   "execution_count": 82,
   "metadata": {},
   "outputs": [
    {
     "name": "stdout",
     "output_type": "stream",
     "text": [
      "Tool prediction: M\n",
      "My prediction: M\n"
     ]
    }
   ],
   "source": [
    "regressor = getRegressorTool()\n",
    "myregressor = getMyRegressor()\n",
    "\n",
    "value = [[18,10]]\n",
    "toolOutput = regressor.predict(value)\n",
    "myOutput = myregressor.predict(value)\n",
    "\n",
    "print(\"Tool prediction: {}\\nMy prediction: {}\".format(toolOutput[-1],myOutput[-1]))"
   ]
  }
 ],
 "metadata": {
  "kernelspec": {
   "display_name": "Python 3",
   "language": "python",
   "name": "python3"
  },
  "language_info": {
   "codemirror_mode": {
    "name": "ipython",
    "version": 3
   },
   "file_extension": ".py",
   "mimetype": "text/x-python",
   "name": "python",
   "nbconvert_exporter": "python",
   "pygments_lexer": "ipython3",
   "version": "3.10.13"
  }
 },
 "nbformat": 4,
 "nbformat_minor": 2
}
