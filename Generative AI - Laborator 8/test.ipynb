{
 "cells": [
  {
   "cell_type": "code",
   "execution_count": 2,
   "metadata": {},
   "outputs": [],
   "source": [
    "import gensim.downloader"
   ]
  },
  {
   "cell_type": "code",
   "execution_count": 3,
   "metadata": {},
   "outputs": [
    {
     "name": "stdout",
     "output_type": "stream",
     "text": [
      "[==================================================] 100.0% 376.1/376.1MB downloaded\n"
     ]
    }
   ],
   "source": [
    "glove_vectors = gensim.downloader.load('glove-wiki-gigaword-300')\n",
    "\n",
    "def find_synonym(word):\n",
    "    return glove_vectors.most_similar(word)[0][0]"
   ]
  },
  {
   "cell_type": "code",
   "execution_count": 4,
   "metadata": {},
   "outputs": [
    {
     "name": "stderr",
     "output_type": "stream",
     "text": [
      "/home/codespace/.python/current/lib/python3.10/site-packages/tqdm/auto.py:21: TqdmWarning: IProgress not found. Please update jupyter and ipywidgets. See https://ipywidgets.readthedocs.io/en/stable/user_install.html\n",
      "  from .autonotebook import tqdm as notebook_tqdm\n"
     ]
    }
   ],
   "source": [
    "from datasets import load_dataset\n",
    "import markovify\n",
    "\n",
    "dataset = load_dataset(\"biglam/gutenberg-poetry-corpus\")\n",
    "dataset['train'] = dataset['train'][:12000]"
   ]
  },
  {
   "cell_type": "code",
   "execution_count": 5,
   "metadata": {},
   "outputs": [
    {
     "name": "stdout",
     "output_type": "stream",
     "text": [
      "But least his heart within him Hell\n",
      "His journies end and our Joy upraise\n",
      "Here for his fault amerc't\n",
      "After the Tempest: Such applause was heard declar'd the Almightie's will;\n",
      "Hissed among the pinetrees,\n"
     ]
    }
   ],
   "source": [
    "text_model = markovify.Text(dataset['train']['line'])\n",
    "for i in range(5):\n",
    "    print(text_model.make_sentence())"
   ]
  },
  {
   "cell_type": "code",
   "execution_count": 6,
   "metadata": {},
   "outputs": [
    {
     "name": "stdout",
     "output_type": "stream",
     "text": [
      "Oh the long reeds by the South-wind,\n",
      "An Atom, with the tongue\n",
      "Spake entreating, said in the husking\n",
      "That the time may come when men\n",
      "On him who sent the fiery serpents,\n"
     ]
    }
   ],
   "source": [
    "lines = []\n",
    "for i in range(5):\n",
    "    lines.append(text_model.make_sentence())\n",
    "\n",
    "for line in lines:\n",
    "    print(line)"
   ]
  },
  {
   "cell_type": "code",
   "execution_count": 7,
   "metadata": {},
   "outputs": [
    {
     "name": "stdout",
     "output_type": "stream",
     "text": [
      "                                    line  TextBlob_Subjectivity  \\\n",
      "0   Oh the long reeds by the South-wind,                    0.4   \n",
      "1               An Atom, with the tongue                    0.0   \n",
      "2  Spake entreating, said in the husking                    0.0   \n",
      "3        That the time may come when men                    0.0   \n",
      "4    On him who sent the fiery serpents,                    0.0   \n",
      "\n",
      "   TextBlob_Polarity TextBlob_Analysis  \n",
      "0              -0.05          Negative  \n",
      "1               0.00           Neutral  \n",
      "2               0.00           Neutral  \n",
      "3               0.00           Neutral  \n",
      "4               0.00           Neutral  \n"
     ]
    }
   ],
   "source": [
    "from textblob import TextBlob\n",
    "import pandas as pd\n",
    "\n",
    "def sentiment_analysis(poetry):\n",
    "    def getSubjectivity(text):\n",
    "        return TextBlob(text).sentiment.subjectivity\n",
    "\n",
    "    def getPolarity(text):\n",
    "        return TextBlob(text).sentiment.polarity\n",
    "\n",
    "    poetry['TextBlob_Subjectivity'] = poetry['line'].apply(getSubjectivity)\n",
    "    poetry['TextBlob_Polarity'] = poetry['line'].apply(getPolarity)\n",
    "\n",
    "    def getAnalysis(score):\n",
    "        if score < 0:\n",
    "            return 'Negative'\n",
    "        elif score == 0:\n",
    "            return 'Neutral'\n",
    "        else:\n",
    "            return 'Positive'\n",
    "\n",
    "    poetry['TextBlob_Analysis'] = poetry['TextBlob_Polarity'].apply(getAnalysis)\n",
    "    \n",
    "    return poetry\n",
    "\n",
    "# Poem example\n",
    "poem = {\n",
    "    'line': lines\n",
    "}\n",
    "\n",
    "poetry_df = pd.DataFrame(poem)\n",
    "\n",
    "result = sentiment_analysis(poetry_df)\n",
    "print(result)\n"
   ]
  },
  {
   "cell_type": "code",
   "execution_count": 8,
   "metadata": {},
   "outputs": [
    {
     "name": "stdout",
     "output_type": "stream",
     "text": [
      "Oh the short grasses by the South-wind, \n",
      "An Atom, both of tongue \n",
      "Spake entreating, said where the hulling \n",
      "That of time might coming when women \n",
      "On him whom sent of rhetoric serpents, \n"
     ]
    }
   ],
   "source": [
    "def replace_with_sinonims(poem):\n",
    "    new_poem = []\n",
    "    for line in poem:\n",
    "        new_vers = ''\n",
    "        for word in line.split(' '):\n",
    "            from numpy.random import randint\n",
    "            p = randint(1,101)\n",
    "            if p % 2 == 0:\n",
    "                try:\n",
    "                    word = find_synonym(word)\n",
    "                except:\n",
    "                    word = word\n",
    "            new_vers += word + ' '\n",
    "        new_poem.append(new_vers)\n",
    "\n",
    "    return new_poem\n",
    "\n",
    "new_poem = replace_with_sinonims(lines)\n",
    "for line in new_poem:\n",
    "    print(line)"
   ]
  },
  {
   "cell_type": "code",
   "execution_count": 9,
   "metadata": {},
   "outputs": [
    {
     "name": "stdout",
     "output_type": "stream",
     "text": [
      "0.8574286908456553\n"
     ]
    }
   ],
   "source": [
    "from nltk.translate.bleu_score import sentence_bleu\n",
    "\n",
    "reference = [[word for word in line] for line in dataset['train']['line']]\n",
    "\n",
    "candidate = [word for line in lines for word in line ]\n",
    "\n",
    "score = sentence_bleu(reference, candidate)\n",
    "\n",
    "print(score)"
   ]
  }
 ],
 "metadata": {
  "kernelspec": {
   "display_name": "Python 3",
   "language": "python",
   "name": "python3"
  },
  "language_info": {
   "codemirror_mode": {
    "name": "ipython",
    "version": 3
   },
   "file_extension": ".py",
   "mimetype": "text/x-python",
   "name": "python",
   "nbconvert_exporter": "python",
   "pygments_lexer": "ipython3",
   "version": "3.10.13"
  }
 },
 "nbformat": 4,
 "nbformat_minor": 2
}
