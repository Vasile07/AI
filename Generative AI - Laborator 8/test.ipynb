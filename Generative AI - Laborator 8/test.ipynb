{
 "cells": [
  {
   "cell_type": "markdown",
   "metadata": {},
   "source": [
    "pip install spacy\n",
    "\n",
    "python -m spacy download en_core_web_md"
   ]
  },
  {
   "cell_type": "code",
   "execution_count": 37,
   "metadata": {},
   "outputs": [
    {
     "name": "stdout",
     "output_type": "stream",
     "text": [
      "Sinonim pentru 'me': you\n"
     ]
    }
   ],
   "source": [
    "import spacy\n",
    "import numpy as np\n",
    "from scipy.spatial.distance import cosine\n",
    "\n",
    "# Încărcăm modelul spaCy\n",
    "nlp = spacy.load(\"en_core_web_lg\")\n",
    "\n",
    "def find_synonym(word):\n",
    "    # Obținem embedding-ul pentru cuvântul dat\n",
    "    word_embedding = nlp(word).vector\n",
    "    \n",
    "    # Lista pentru a stoca distanțele și cuvintele corespunzătoare\n",
    "    distances = []\n",
    "    words = []\n",
    "    \n",
    "    # Iterăm prin toate cuvintele din vocabularul încărcat în spaCy\n",
    "    for token in nlp.vocab:\n",
    "        # Verificăm dacă cuvântul are un embedding și nu este cuvântul dat în sine\n",
    "        if token.text != word and token.has_vector:\n",
    "            # Calculăm similaritatea cosinusului între embedding-ul cuvântului dat și embedding-ul curent\n",
    "            distance = cosine(word_embedding, token.vector)\n",
    "            distances.append(distance)\n",
    "            words.append(token.text)\n",
    "    \n",
    "    # Găsim cuvântul cel mai similar\n",
    "    most_similar_word = words[np.argmin(distances)]\n",
    "    \n",
    "    return most_similar_word\n",
    "\n",
    "# Exemplu de folosire a funcției\n",
    "word = \"me\"\n",
    "synonym = find_synonym(word)\n",
    "print(f\"Sinonim pentru '{word}': {synonym}\")\n"
   ]
  },
  {
   "cell_type": "code",
   "execution_count": null,
   "metadata": {},
   "outputs": [],
   "source": []
  }
 ],
 "metadata": {
  "kernelspec": {
   "display_name": "Python 3",
   "language": "python",
   "name": "python3"
  },
  "language_info": {
   "codemirror_mode": {
    "name": "ipython",
    "version": 3
   },
   "file_extension": ".py",
   "mimetype": "text/x-python",
   "name": "python",
   "nbconvert_exporter": "python",
   "pygments_lexer": "ipython3",
   "version": "3.10.13"
  }
 },
 "nbformat": 4,
 "nbformat_minor": 2
}
