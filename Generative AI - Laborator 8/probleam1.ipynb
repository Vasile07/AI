{
 "cells": [
  {
   "cell_type": "code",
   "execution_count": 1,
   "metadata": {},
   "outputs": [],
   "source": [
    "from numpy.random import random\n",
    "\n",
    "class MarkovianChain:\n",
    "    def __init__(self, state = 1) -> None:\n",
    "        self.probs = {}\n",
    "        self.state = state\n",
    "\n",
    "    def Text(self, path:str):\n",
    "        with open(path) as f:\n",
    "            text = f.read()\n",
    "        text = text.replace('\\n',' \\n ').split(' ')\n",
    "        words = {}\n",
    "        words[''] = [self._convert_list_words_to_sentance(text[0:self.state])]\n",
    "        \n",
    "        for i in range(0, len(text) - self.state-1):\n",
    "            pairs = text[i:i+self.state]\n",
    "            pairs = self._convert_list_words_to_sentance(pairs)\n",
    "            if not pairs in words.keys():\n",
    "                words[pairs] = []\n",
    "            words[pairs].append(text[i+self.state])\n",
    "        \n",
    "        for start_word in words.keys():\n",
    "            words_after = words[start_word]\n",
    "            self.probs[start_word] = [{'word': word, 'probabilitate': words_after.count(word)/len(words_after)} for word in set(words_after)]\n",
    "            self.probs[start_word].sort(key=lambda x : x['probabilitate'])\n",
    "\n",
    "    def predict_next_word(self,word):\n",
    "        probabilitati_next_word = self.probs[word]\n",
    "        p = random()\n",
    "        start = 0 \n",
    "        for d in probabilitati_next_word:\n",
    "            if start <= p < start + d['probabilitate']:\n",
    "                return d['word']\n",
    "            start += d['probabilitate']\n",
    "\n",
    "    def _convert_list_words_to_sentance(self, words):\n",
    "        s = ''\n",
    "        for word in words[:-1]:\n",
    "            s += word + ' '\n",
    "        s+= words[-1]\n",
    "        return s\n",
    "\n",
    "    def generate_poem(self,number_of_words):\n",
    "        word = self.predict_next_word('')\n",
    "        start = word + ' '\n",
    "        for _ in range(number_of_words):\n",
    "            next_word = self.predict_next_word(word)\n",
    "            start += next_word + ' '\n",
    "            tokens = word.split(' ')[1:] + [next_word]\n",
    "            word = self._convert_list_words_to_sentance(tokens)\n",
    "            \n",
    "        return start"
   ]
  },
  {
   "cell_type": "code",
   "execution_count": 3,
   "metadata": {},
   "outputs": [
    {
     "name": "stdout",
     "output_type": "stream",
     "text": [
      "tu cu lung şi le strecoarã \n",
      " Să dorm, albe, strălucite \n",
      " Şi, dacă munca vieţii real... \n",
      " Să-ngăduie intrarea-mi în câmp. \n",
      " O rază mai ca tine mi-e teamă... \n",
      " În oglinda îl resfiră, \n",
      " Şi înserează... şi între sfinţi \n",
      " Cu saci de pelin. \n",
      " Din arzătoarea lui adâncuri, \n",
      " Şi dacă nu este \n",
      " Omule, scoală, este astăzi dacă se umflă spre-nălţime: \n",
      " Tăcere e scris \n",
      " La nici senin, \n",
      " Ca şi perle, şi la os, \n",
      " Ca şi spuma nezărită - \n",
      " Toate păsările toate încep să nu mă uit ceea ce crimele burgheze colorate \n",
      " \n"
     ]
    }
   ],
   "source": [
    "markovian = MarkovianChain(1)\n",
    "markovian.Text('poezieRo.txt')\n",
    "poem = markovian.generate_poem(100)\n",
    "print(poem)"
   ]
  }
 ],
 "metadata": {
  "kernelspec": {
   "display_name": "Python 3",
   "language": "python",
   "name": "python3"
  },
  "language_info": {
   "codemirror_mode": {
    "name": "ipython",
    "version": 3
   },
   "file_extension": ".py",
   "mimetype": "text/x-python",
   "name": "python",
   "nbconvert_exporter": "python",
   "pygments_lexer": "ipython3",
   "version": "3.10.13"
  }
 },
 "nbformat": 4,
 "nbformat_minor": 2
}
