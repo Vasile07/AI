{
 "cells": [
  {
   "cell_type": "code",
   "execution_count": 1,
   "metadata": {},
   "outputs": [
    {
     "name": "stderr",
     "output_type": "stream",
     "text": [
      "/home/codespace/.python/current/lib/python3.10/site-packages/tqdm/auto.py:21: TqdmWarning: IProgress not found. Please update jupyter and ipywidgets. See https://ipywidgets.readthedocs.io/en/stable/user_install.html\n",
      "  from .autonotebook import tqdm as notebook_tqdm\n"
     ]
    }
   ],
   "source": [
    "from datasets import load_dataset\n",
    "import markovify\n",
    "\n",
    "dataset = load_dataset(\"biglam/gutenberg-poetry-corpus\")"
   ]
  },
  {
   "cell_type": "code",
   "execution_count": 2,
   "metadata": {},
   "outputs": [
    {
     "name": "stdout",
     "output_type": "stream",
     "text": [
      "When there came no longer,\n",
      "From the wigwam with Nokomis,\n",
      "Buried in the daylight or the darkness.\n",
      "With a shout and song of love and pity;\n",
      "When upon his haunches,\n"
     ]
    }
   ],
   "source": [
    "text_model = markovify.Text(dataset['train']['line'][:5000])\n",
    "for i in range(5):\n",
    "    print(text_model.make_sentence())"
   ]
  },
  {
   "cell_type": "code",
   "execution_count": 3,
   "metadata": {},
   "outputs": [
    {
     "name": "stdout",
     "output_type": "stream",
     "text": [
      "Drive us all into the empty vastness,\n",
      "With their songs of longing;\n",
      "Thus it was he who in Spring-time\n",
      "And the roof-poles of the winds of heaven uplifted,\n",
      "And Iagoo, the great Pearl-Feather,\n"
     ]
    }
   ],
   "source": [
    "lines = []\n",
    "for i in range(5):\n",
    "    lines.append(text_model.make_sentence())\n",
    "\n",
    "for line in lines:\n",
    "    print(line)"
   ]
  },
  {
   "cell_type": "code",
   "execution_count": 4,
   "metadata": {},
   "outputs": [
    {
     "name": "stdout",
     "output_type": "stream",
     "text": [
      "                                                line  TextBlob_Subjectivity  \\\n",
      "0              Drive us all into the empty vastness,                   0.50   \n",
      "1                       With their songs of longing;                   0.00   \n",
      "2                  Thus it was he who in Spring-time                   0.00   \n",
      "3  And the roof-poles of the winds of heaven upli...                   0.00   \n",
      "4                And Iagoo, the great Pearl-Feather,                   0.75   \n",
      "\n",
      "   TextBlob_Polarity TextBlob_Analysis  \n",
      "0               -0.1          Negative  \n",
      "1                0.0           Neutral  \n",
      "2                0.0           Neutral  \n",
      "3                0.0           Neutral  \n",
      "4                0.8          Positive  \n"
     ]
    }
   ],
   "source": [
    "from textblob import TextBlob\n",
    "import pandas as pd\n",
    "\n",
    "def sentiment_analysis(poetry):\n",
    "    def getSubjectivity(text):\n",
    "        return TextBlob(text).sentiment.subjectivity\n",
    "\n",
    "    def getPolarity(text):\n",
    "        return TextBlob(text).sentiment.polarity\n",
    "\n",
    "    poetry['TextBlob_Subjectivity'] = poetry['line'].apply(getSubjectivity)\n",
    "    poetry['TextBlob_Polarity'] = poetry['line'].apply(getPolarity)\n",
    "\n",
    "    def getAnalysis(score):\n",
    "        if score < 0:\n",
    "            return 'Negative'\n",
    "        elif score == 0:\n",
    "            return 'Neutral'\n",
    "        else:\n",
    "            return 'Positive'\n",
    "\n",
    "    poetry['TextBlob_Analysis'] = poetry['TextBlob_Polarity'].apply(getAnalysis)\n",
    "    \n",
    "    return poetry\n",
    "\n",
    "# Poem example\n",
    "poem = {\n",
    "    'line': lines\n",
    "}\n",
    "\n",
    "poetry_df = pd.DataFrame(poem)\n",
    "\n",
    "result = sentiment_analysis(poetry_df)\n",
    "print(result)\n"
   ]
  },
  {
   "cell_type": "code",
   "execution_count": 5,
   "metadata": {},
   "outputs": [
    {
     "name": "stdout",
     "output_type": "stream",
     "text": [
      "0\n"
     ]
    }
   ],
   "source": [
    "from nltk.translate.bleu_score import sentence_bleu\n",
    "\n",
    "reference = [line for line in dataset['train']['line']]\n",
    "\n",
    "candidate = [line for line in lines]\n",
    "\n",
    "score = sentence_bleu(reference, candidate)\n",
    "\n",
    "print(score)"
   ]
  }
 ],
 "metadata": {
  "kernelspec": {
   "display_name": "Python 3",
   "language": "python",
   "name": "python3"
  },
  "language_info": {
   "codemirror_mode": {
    "name": "ipython",
    "version": 3
   },
   "file_extension": ".py",
   "mimetype": "text/x-python",
   "name": "python",
   "nbconvert_exporter": "python",
   "pygments_lexer": "ipython3",
   "version": "3.10.13"
  }
 },
 "nbformat": 4,
 "nbformat_minor": 2
}
