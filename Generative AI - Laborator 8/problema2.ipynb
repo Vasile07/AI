{
 "cells": [
  {
   "cell_type": "code",
   "execution_count": 25,
   "metadata": {},
   "outputs": [],
   "source": [
    "from datasets import load_dataset\n",
    "import markovify\n",
    "\n",
    "dataset = load_dataset(\"biglam/gutenberg-poetry-corpus\")\n",
    "dataset['train'] = dataset['train'][:12000]"
   ]
  },
  {
   "cell_type": "code",
   "execution_count": 26,
   "metadata": {},
   "outputs": [
    {
     "name": "stdout",
     "output_type": "stream",
     "text": [
      "Drips the melting snow in drifts about it,\n",
      "And he named her,\n",
      "Felt the mighty Pau-Puk-Keewis\n",
      "And the arrows of the red deer homeward,\n",
      "Mean while in my dominions,\n"
     ]
    }
   ],
   "source": [
    "text_model = markovify.Text(dataset['train']['line'])\n",
    "for i in range(5):\n",
    "    print(text_model.make_sentence())"
   ]
  },
  {
   "cell_type": "code",
   "execution_count": 27,
   "metadata": {},
   "outputs": [
    {
     "name": "stdout",
     "output_type": "stream",
     "text": [
      "Mov'd on in silence all the coasts of Light\n",
      "Puk-Wudj'ies, little wild men of the North, there to dwell here, driv'n out from God\n",
      "And in the trees with scarlet,\n",
      "With envie against the winter,\n",
      "Shall be the sun descending,\n"
     ]
    }
   ],
   "source": [
    "lines = []\n",
    "for i in range(5):\n",
    "    lines.append(text_model.make_sentence())\n",
    "\n",
    "for line in lines:\n",
    "    print(line)"
   ]
  },
  {
   "cell_type": "code",
   "execution_count": 28,
   "metadata": {},
   "outputs": [
    {
     "name": "stdout",
     "output_type": "stream",
     "text": [
      "                                                line  TextBlob_Subjectivity  \\\n",
      "0        Mov'd on in silence all the coasts of Light                   0.70   \n",
      "1  Puk-Wudj'ies, little wild men of the North, th...                   0.45   \n",
      "2                     And in the trees with scarlet,                   0.00   \n",
      "3                     With envie against the winter,                   0.00   \n",
      "4                       Shall be the sun descending,                   0.00   \n",
      "\n",
      "   TextBlob_Polarity TextBlob_Analysis  \n",
      "0            0.40000          Positive  \n",
      "1           -0.04375          Negative  \n",
      "2            0.00000           Neutral  \n",
      "3            0.00000           Neutral  \n",
      "4            0.00000           Neutral  \n"
     ]
    }
   ],
   "source": [
    "from textblob import TextBlob\n",
    "import pandas as pd\n",
    "\n",
    "def sentiment_analysis(poetry):\n",
    "    def getSubjectivity(text):\n",
    "        return TextBlob(text).sentiment.subjectivity\n",
    "\n",
    "    def getPolarity(text):\n",
    "        return TextBlob(text).sentiment.polarity\n",
    "\n",
    "    poetry['TextBlob_Subjectivity'] = poetry['line'].apply(getSubjectivity)\n",
    "    poetry['TextBlob_Polarity'] = poetry['line'].apply(getPolarity)\n",
    "\n",
    "    def getAnalysis(score):\n",
    "        if score < 0:\n",
    "            return 'Negative'\n",
    "        elif score == 0:\n",
    "            return 'Neutral'\n",
    "        else:\n",
    "            return 'Positive'\n",
    "\n",
    "    poetry['TextBlob_Analysis'] = poetry['TextBlob_Polarity'].apply(getAnalysis)\n",
    "    \n",
    "    return poetry\n",
    "\n",
    "# Poem example\n",
    "poem = {\n",
    "    'line': lines\n",
    "}\n",
    "\n",
    "poetry_df = pd.DataFrame(poem)\n",
    "\n",
    "result = sentiment_analysis(poetry_df)\n",
    "print(result)\n"
   ]
  },
  {
   "cell_type": "code",
   "execution_count": 29,
   "metadata": {},
   "outputs": [],
   "source": [
    "import spacy\n",
    "import numpy as np\n",
    "from scipy.spatial.distance import cosine\n",
    "\n",
    "# Încărcăm modelul spaCy\n",
    "nlp = spacy.load(\"en_core_web_lg\")\n",
    "\n",
    "def find_synonym(word):\n",
    "    # Obținem embedding-ul pentru cuvântul dat\n",
    "    word_embedding = nlp(word).vector\n",
    "    \n",
    "    # Lista pentru a stoca distanțele și cuvintele corespunzătoare\n",
    "    distances = []\n",
    "    words = []\n",
    "    \n",
    "    # Iterăm prin toate cuvintele din vocabularul încărcat în spaCy\n",
    "    for token in nlp.vocab:\n",
    "        # Verificăm dacă cuvântul are un embedding și nu este cuvântul dat în sine\n",
    "        if token.text != word and token.has_vector:\n",
    "            # Calculăm similaritatea cosinusului între embedding-ul cuvântului dat și embedding-ul curent\n",
    "            distance = cosine(word_embedding, token.vector)\n",
    "            distances.append(distance)\n",
    "            words.append(token.text)\n",
    "    \n",
    "    # Găsim cuvântul cel mai similar\n",
    "    most_similar_word = words[np.argmin(distances)]\n",
    "    \n",
    "    return most_similar_word"
   ]
  },
  {
   "cell_type": "code",
   "execution_count": 30,
   "metadata": {},
   "outputs": [
    {
     "name": "stderr",
     "output_type": "stream",
     "text": [
      "/home/codespace/.local/lib/python3.10/site-packages/scipy/spatial/distance.py:647: RuntimeWarning: invalid value encountered in divide\n",
      "  dist = 1.0 - uv / math.sqrt(uu * vv)\n"
     ]
    },
    {
     "name": "stdout",
     "output_type": "stream",
     "text": [
      "ü. on where silence these the coasts and Might \n",
      "- somethin’ little those of and , there to dwell , driv'n here from lovin’ \n",
      "'Cause where and trees and scarlet, \n",
      "with space against the winter, \n",
      "Can be the sun , \n"
     ]
    }
   ],
   "source": [
    "def replace_with_sinonims(poem):\n",
    "    new_poem = []\n",
    "    for line in poem:\n",
    "        new_vers = ''\n",
    "        for word in line.split(' '):\n",
    "            from numpy.random import randint\n",
    "            p = randint(1,101)\n",
    "            if p % 2 == 0:\n",
    "                word = find_synonym(word)\n",
    "            new_vers += word + ' '\n",
    "        new_poem.append(new_vers)\n",
    "\n",
    "    return new_poem\n",
    "\n",
    "new_poem = replace_with_sinonims(lines)\n",
    "for line in new_poem:\n",
    "    print(line)"
   ]
  },
  {
   "cell_type": "code",
   "execution_count": 31,
   "metadata": {},
   "outputs": [
    {
     "name": "stdout",
     "output_type": "stream",
     "text": [
      "0.8603600215528934\n"
     ]
    }
   ],
   "source": [
    "from nltk.translate.bleu_score import sentence_bleu\n",
    "\n",
    "reference = [[word for word in line] for line in dataset['train']['line']]\n",
    "\n",
    "candidate = [word for line in lines for word in line ]\n",
    "\n",
    "score = sentence_bleu(reference, candidate)\n",
    "\n",
    "print(score)"
   ]
  }
 ],
 "metadata": {
  "kernelspec": {
   "display_name": "Python 3",
   "language": "python",
   "name": "python3"
  },
  "language_info": {
   "codemirror_mode": {
    "name": "ipython",
    "version": 3
   },
   "file_extension": ".py",
   "mimetype": "text/x-python",
   "name": "python",
   "nbconvert_exporter": "python",
   "pygments_lexer": "ipython3",
   "version": "3.10.13"
  }
 },
 "nbformat": 4,
 "nbformat_minor": 2
}
