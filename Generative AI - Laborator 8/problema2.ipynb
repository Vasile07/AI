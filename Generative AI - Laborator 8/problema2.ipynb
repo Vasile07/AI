{
 "cells": [
  {
   "cell_type": "code",
   "execution_count": 1,
   "metadata": {},
   "outputs": [
    {
     "name": "stderr",
     "output_type": "stream",
     "text": [
      "/home/codespace/.python/current/lib/python3.10/site-packages/tqdm/auto.py:21: TqdmWarning: IProgress not found. Please update jupyter and ipywidgets. See https://ipywidgets.readthedocs.io/en/stable/user_install.html\n",
      "  from .autonotebook import tqdm as notebook_tqdm\n"
     ]
    }
   ],
   "source": [
    "from datasets import load_dataset\n",
    "import markovify\n",
    "\n",
    "dataset = load_dataset(\"biglam/gutenberg-poetry-corpus\")"
   ]
  },
  {
   "cell_type": "code",
   "execution_count": 2,
   "metadata": {},
   "outputs": [
    {
     "name": "stdout",
     "output_type": "stream",
     "text": [
      "Is it not so, my friend, I greet thee;\n",
      "The butcher stood by holding flame to rise.\n",
      "Found the faithful Rudeger.\n",
      "Fill the fiery sunset,\n",
      "Though these two guests in Eden;\n"
     ]
    }
   ],
   "source": [
    "text_model = markovify.Text(dataset['train']['line'])\n",
    "for i in range(5):\n",
    "    print(text_model.make_sentence())"
   ]
  },
  {
   "cell_type": "code",
   "execution_count": 3,
   "metadata": {},
   "outputs": [
    {
     "name": "stdout",
     "output_type": "stream",
     "text": [
      "Another hand crept up along the water-way,\n",
      "From which the witless roll of English home reflected\n",
      "They did not see,\n",
      "Pure rills through vales and mountains, and with Gold.\n",
      "Have shewn Thee the wider liberty;\n"
     ]
    }
   ],
   "source": [
    "lines = []\n",
    "for i in range(5):\n",
    "    lines.append(text_model.make_sentence())\n",
    "\n",
    "for line in lines:\n",
    "    print(line)"
   ]
  },
  {
   "cell_type": "code",
   "execution_count": 4,
   "metadata": {},
   "outputs": [
    {
     "name": "stdout",
     "output_type": "stream",
     "text": [
      "                                                line  TextBlob_Subjectivity  \\\n",
      "0         Another hand crept up along the water-way,                    0.0   \n",
      "1  From which the witless roll of English home re...                    0.0   \n",
      "2                                  They did not see,                    0.0   \n",
      "3  Pure rills through vales and mountains, and wi...                    0.5   \n",
      "4                 Have shewn Thee the wider liberty;                    0.0   \n",
      "\n",
      "   TextBlob_Polarity TextBlob_Analysis  \n",
      "0           0.000000           Neutral  \n",
      "1           0.000000           Neutral  \n",
      "2           0.000000           Neutral  \n",
      "3           0.214286          Positive  \n",
      "4           0.000000           Neutral  \n"
     ]
    }
   ],
   "source": [
    "from textblob import TextBlob\n",
    "import pandas as pd\n",
    "\n",
    "def sentiment_analysis(poetry):\n",
    "    def getSubjectivity(text):\n",
    "        return TextBlob(text).sentiment.subjectivity\n",
    "\n",
    "    def getPolarity(text):\n",
    "        return TextBlob(text).sentiment.polarity\n",
    "\n",
    "    poetry['TextBlob_Subjectivity'] = poetry['line'].apply(getSubjectivity)\n",
    "    poetry['TextBlob_Polarity'] = poetry['line'].apply(getPolarity)\n",
    "\n",
    "    def getAnalysis(score):\n",
    "        if score < 0:\n",
    "            return 'Negative'\n",
    "        elif score == 0:\n",
    "            return 'Neutral'\n",
    "        else:\n",
    "            return 'Positive'\n",
    "\n",
    "    poetry['TextBlob_Analysis'] = poetry['TextBlob_Polarity'].apply(getAnalysis)\n",
    "    \n",
    "    return poetry\n",
    "\n",
    "# Poem example\n",
    "poem = {\n",
    "    'line': lines\n",
    "}\n",
    "\n",
    "poetry_df = pd.DataFrame(poem)\n",
    "\n",
    "result = sentiment_analysis(poetry_df)\n",
    "print(result)\n"
   ]
  },
  {
   "cell_type": "code",
   "execution_count": 5,
   "metadata": {},
   "outputs": [
    {
     "name": "stdout",
     "output_type": "stream",
     "text": [
      "0\n"
     ]
    }
   ],
   "source": [
    "from nltk.translate.bleu_score import sentence_bleu\n",
    "\n",
    "reference = [line for line in dataset['train']['line']]\n",
    "\n",
    "candidate = [line for line in lines]\n",
    "\n",
    "score = sentence_bleu(reference, candidate)\n",
    "\n",
    "print(score)"
   ]
  }
 ],
 "metadata": {
  "kernelspec": {
   "display_name": "Python 3",
   "language": "python",
   "name": "python3"
  },
  "language_info": {
   "codemirror_mode": {
    "name": "ipython",
    "version": 3
   },
   "file_extension": ".py",
   "mimetype": "text/x-python",
   "name": "python",
   "nbconvert_exporter": "python",
   "pygments_lexer": "ipython3",
   "version": "3.10.13"
  }
 },
 "nbformat": 4,
 "nbformat_minor": 2
}
