{
 "cells": [
  {
   "cell_type": "code",
   "execution_count": 1,
   "metadata": {},
   "outputs": [
    {
     "name": "stderr",
     "output_type": "stream",
     "text": [
      "/home/codespace/.python/current/lib/python3.10/site-packages/tqdm/auto.py:21: TqdmWarning: IProgress not found. Please update jupyter and ipywidgets. See https://ipywidgets.readthedocs.io/en/stable/user_install.html\n",
      "  from .autonotebook import tqdm as notebook_tqdm\n",
      "Downloading readme: 100%|██████████| 1.15k/1.15k [00:00<00:00, 3.36MB/s]\n",
      "Downloading metadata: 100%|██████████| 903/903 [00:00<00:00, 2.75MB/s]\n",
      "Downloading data: 100%|██████████| 91.1M/91.1M [00:00<00:00, 96.4MB/s]\n",
      "Generating train split: 100%|██████████| 3085117/3085117 [00:01<00:00, 2461056.22 examples/s]\n"
     ]
    }
   ],
   "source": [
    "from datasets import load_dataset\n",
    "import markovify\n",
    "\n",
    "dataset = load_dataset(\"biglam/gutenberg-poetry-corpus\")\n",
    "dataset['train'] = dataset['train'][:12000]"
   ]
  },
  {
   "cell_type": "code",
   "execution_count": 2,
   "metadata": {},
   "outputs": [
    {
     "name": "stdout",
     "output_type": "stream",
     "text": [
      "Canst thou with mine.\n",
      "Thou interposest, that my womb\n",
      "Ruin must needs ensue; for what place so e're\n",
      "All these his works behold\n",
      "Unaided could have fear'd,\n"
     ]
    }
   ],
   "source": [
    "text_model = markovify.Text(dataset['train']['line'])\n",
    "for i in range(5):\n",
    "    print(text_model.make_sentence())"
   ]
  },
  {
   "cell_type": "code",
   "execution_count": 14,
   "metadata": {},
   "outputs": [
    {
     "name": "stdout",
     "output_type": "stream",
     "text": [
      "Fountain of Light, thy self with Spirits of Heav'n first-born,\n",
      "In order came the warriors,\n",
      "The great Creator hath bestowd\n",
      "Chemaun', a birch canoe came Kwasind,\n",
      "That Bodies bright and silvery water,\n"
     ]
    }
   ],
   "source": [
    "lines = []\n",
    "for i in range(5):\n",
    "    lines.append(text_model.make_sentence())\n",
    "\n",
    "for line in lines:\n",
    "    print(line)"
   ]
  },
  {
   "cell_type": "code",
   "execution_count": 15,
   "metadata": {},
   "outputs": [
    {
     "name": "stdout",
     "output_type": "stream",
     "text": [
      "                                                line  TextBlob_Subjectivity  \\\n",
      "0  Fountain of Light, thy self with Spirits of He...                   0.70   \n",
      "1                        In order came the warriors,                   0.00   \n",
      "2                     The great Creator hath bestowd                   0.75   \n",
      "3              Chemaun', a birch canoe came Kwasind,                   0.00   \n",
      "4              That Bodies bright and silvery water,                   0.80   \n",
      "\n",
      "   TextBlob_Polarity TextBlob_Analysis  \n",
      "0                0.4          Positive  \n",
      "1                0.0           Neutral  \n",
      "2                0.8          Positive  \n",
      "3                0.0           Neutral  \n",
      "4                0.7          Positive  \n"
     ]
    }
   ],
   "source": [
    "from textblob import TextBlob\n",
    "import pandas as pd\n",
    "\n",
    "def sentiment_analysis(poetry):\n",
    "    def getSubjectivity(text):\n",
    "        return TextBlob(text).sentiment.subjectivity\n",
    "\n",
    "    def getPolarity(text):\n",
    "        return TextBlob(text).sentiment.polarity\n",
    "\n",
    "    poetry['TextBlob_Subjectivity'] = poetry['line'].apply(getSubjectivity)\n",
    "    poetry['TextBlob_Polarity'] = poetry['line'].apply(getPolarity)\n",
    "\n",
    "    def getAnalysis(score):\n",
    "        if score < 0:\n",
    "            return 'Negative'\n",
    "        elif score == 0:\n",
    "            return 'Neutral'\n",
    "        else:\n",
    "            return 'Positive'\n",
    "\n",
    "    poetry['TextBlob_Analysis'] = poetry['TextBlob_Polarity'].apply(getAnalysis)\n",
    "    \n",
    "    return poetry\n",
    "\n",
    "# Poem example\n",
    "poem = {\n",
    "    'line': lines\n",
    "}\n",
    "\n",
    "poetry_df = pd.DataFrame(poem)\n",
    "\n",
    "result = sentiment_analysis(poetry_df)\n",
    "print(result)\n"
   ]
  },
  {
   "cell_type": "code",
   "execution_count": null,
   "metadata": {},
   "outputs": [
    {
     "name": "stdout",
     "output_type": "stream",
     "text": [
      "Up out the dusk the evening, \n",
      "Buried in of river, \n",
      "And back about he Throne, how good, what faire, \n",
      "Filled of air a moment, \n",
      "There have stood, and gave to rule, \n"
     ]
    }
   ],
   "source": [
    "def replace_with_sinonims(poem):\n",
    "    new_poem = []\n",
    "    for line in poem:\n",
    "        new_vers = ''\n",
    "        for word in line.split(' '):\n",
    "            from numpy.random import randint\n",
    "            p = randint(1,101)\n",
    "            if p % 2 == 0:\n",
    "                try:\n",
    "                    word = find_synonym(word)\n",
    "                except:\n",
    "                    word = word\n",
    "            new_vers += word + ' '\n",
    "        new_poem.append(new_vers)\n",
    "\n",
    "    return new_poem\n",
    "\n",
    "new_poem = replace_with_sinonims(lines)\n",
    "for line in new_poem:\n",
    "    print(line)"
   ]
  },
  {
   "cell_type": "code",
   "execution_count": null,
   "metadata": {},
   "outputs": [
    {
     "name": "stdout",
     "output_type": "stream",
     "text": [
      "0.8603600215528934\n"
     ]
    }
   ],
   "source": [
    "from nltk.translate.bleu_score import sentence_bleu\n",
    "\n",
    "reference = [[word for word in line] for line in dataset['train']['line']]\n",
    "\n",
    "candidate = [word for line in lines for word in line ]\n",
    "\n",
    "score = sentence_bleu(reference, candidate)\n",
    "\n",
    "print(score)"
   ]
  }
 ],
 "metadata": {
  "kernelspec": {
   "display_name": "Python 3",
   "language": "python",
   "name": "python3"
  },
  "language_info": {
   "codemirror_mode": {
    "name": "ipython",
    "version": 3
   },
   "file_extension": ".py",
   "mimetype": "text/x-python",
   "name": "python",
   "nbconvert_exporter": "python",
   "pygments_lexer": "ipython3",
   "version": "3.10.13"
  }
 },
 "nbformat": 4,
 "nbformat_minor": 2
}
