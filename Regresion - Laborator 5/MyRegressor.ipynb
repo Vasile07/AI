{
 "cells": [
  {
   "cell_type": "code",
   "execution_count": 1,
   "metadata": {},
   "outputs": [],
   "source": [
    "class MyRegressor:\n",
    "    def __init__(self) -> None:\n",
    "        self.W = []\n",
    "        self.X = []\n",
    "\n",
    "    def get_parameters(self):\n",
    "        return self.W\n",
    "    \n",
    "    def train(self, training_input_set, training_output_set):\n",
    "        self.X = [[1] + line.copy() for line in training_input_set]\n",
    "        XT = self.__transpose_matrix(self.X)\n",
    "        P = self.__product(self.X,XT)\n",
    "\n",
    "        P_Invers = self.__inversa(P)\n",
    "\n",
    "        A = self.__product(P_Invers, XT)\n",
    "        Y = [[el] for el in training_output_set]\n",
    "\n",
    "        self.W = self.__product(A,Y)\n",
    "        \n",
    "    def __transpose_matrix(self, A):\n",
    "        n, m = len(A), len(A[-1])\n",
    "        XT = [[] for i in range(m)]\n",
    "        for i in range(n):\n",
    "            for j in range(m):\n",
    "                XT[j].append(A[i][j])\n",
    "        return XT\n",
    "\n",
    "    def __product(self,A,B):\n",
    "        nr_lines = len(A)\n",
    "        nr_cols = len(B[-1])\n",
    "        prod = []\n",
    "        for i in range(nr_lines):\n",
    "            prod.append([])\n",
    "            for j in range(nr_cols):\n",
    "                prod[i].append(sum([A[i][k] * B[k][j] for k in range(len(A[i]))]))\n",
    "\n",
    "        return prod          \n",
    "\n",
    "    def __elimLinCol(self, A, i:int, j:int):\n",
    "        B  = [ A[k].copy() for k in range(len(A)) if k != i ]\n",
    "        for line in B:\n",
    "            line.pop(j)\n",
    "        return B\n",
    "\n",
    "    def __determinant(self, A):\n",
    "        if len(A) == 1:\n",
    "            return A[-1][-1]\n",
    "        return sum(((-1) ** j) * A[0][j] * self.__determinant(self.__elimLinCol(A,0,j)) for j in range(len(A[0])))\n",
    "\n",
    "    def __inversa(self, A):\n",
    "        dA = self.__determinant(A)\n",
    "        B = []\n",
    "        nr_lines = len(A)\n",
    "        nr_cols = len(A[-1])\n",
    "        for i in range(nr_lines):\n",
    "            B.append([])\n",
    "            for j in range(nr_cols):\n",
    "                B.append(self.__determinant(self.__elimLinCol(A,i,j))/dA)\n",
    "        \n",
    "        return B\n",
    "\n"
   ]
  },
  {
   "cell_type": "code",
   "execution_count": 2,
   "metadata": {},
   "outputs": [],
   "source": [
    "regresor = MyRegressor()"
   ]
  },
  {
   "cell_type": "code",
   "execution_count": 4,
   "metadata": {},
   "outputs": [],
   "source": [
    "import pandas as pd\n",
    "import numpy as np"
   ]
  },
  {
   "cell_type": "code",
   "execution_count": 5,
   "metadata": {},
   "outputs": [],
   "source": [
    "def getTrainingAndValidationSets(df_world_happiness):\n",
    "    dataSize = df_world_happiness.shape[0]\n",
    "    trainingIndexSet = np.random.choice(range(dataSize),size=int(0.8 * dataSize),replace=False)\n",
    "    validationIndexSet = [i for i in range(dataSize) if i not in trainingIndexSet] \n",
    "\n",
    "    trainingInputSet = [df_world_happiness[\"Economy..GDP.per.Capita.\"].iloc[index] for index in trainingIndexSet ]\n",
    "    trainingOutputSet = [df_world_happiness[\"Happiness.Score\"].iloc[index] for index in trainingIndexSet ]\n",
    "\n",
    "    validationInputSet = [df_world_happiness[\"Economy..GDP.per.Capita.\"].iloc[index] for index in validationIndexSet ]\n",
    "    validationOutputSet = [df_world_happiness[\"Happiness.Score\"].iloc[index] for index in validationIndexSet ]\n",
    "    \n",
    "    return trainingInputSet, trainingOutputSet, validationInputSet, validationOutputSet"
   ]
  },
  {
   "cell_type": "code",
   "execution_count": 6,
   "metadata": {},
   "outputs": [],
   "source": [
    "world_happiness = pd.read_csv(\"datas/v1_world-happiness-report-2017.csv\",delimiter=',', header='infer')"
   ]
  },
  {
   "cell_type": "code",
   "execution_count": 7,
   "metadata": {},
   "outputs": [],
   "source": [
    "training_input_set, training_output_set, validation_input_set, validation_output_set = getTrainingAndValidationSets(world_happiness)\n",
    "\n",
    "training_input_set = [[el] for el in training_input_set]\n",
    "regresor.train(training_input_set, training_output_set)"
   ]
  }
 ],
 "metadata": {
  "kernelspec": {
   "display_name": "Python 3",
   "language": "python",
   "name": "python3"
  },
  "language_info": {
   "codemirror_mode": {
    "name": "ipython",
    "version": 3
   },
   "file_extension": ".py",
   "mimetype": "text/x-python",
   "name": "python",
   "nbconvert_exporter": "python",
   "pygments_lexer": "ipython3",
   "version": "3.10.13"
  }
 },
 "nbformat": 4,
 "nbformat_minor": 2
}
