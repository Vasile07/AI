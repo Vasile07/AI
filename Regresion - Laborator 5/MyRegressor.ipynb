{
 "cells": [
  {
   "cell_type": "code",
   "execution_count": 55,
   "metadata": {},
   "outputs": [],
   "source": [
    "class MyRegressor:\n",
    "    def __init__(self) -> None:\n",
    "        self.W = []\n",
    "        self.X = []\n",
    "\n",
    "    def get_parameters(self):\n",
    "        return self.W\n",
    "    \n",
    "    def train(self, training_input_set, training_output_set):\n",
    "        self.X = [[1] + line.copy() for line in training_input_set]\n",
    "        print(self.X)\n",
    "        XT = self.__transpose_matrix(self.X)\n",
    "        P = self.__product(self.X,XT)\n",
    "\n",
    "        P_Invers = self.__inversa(P)\n",
    "\n",
    "        A = self.__product(P_Invers, XT)\n",
    "        Y = [[el] for el in training_output_set]\n",
    "\n",
    "        self.W = self.__product(A,Y)\n",
    "        \n",
    "    def __transpose_matrix(self, A):\n",
    "        n, m = len(A), len(A[-1])\n",
    "        XT = [[] for i in range(m)]\n",
    "        for i in range(n):\n",
    "            for j in range(m):\n",
    "                XT[j].append(A[i][j])\n",
    "        return XT\n",
    "\n",
    "    def __product(self,A,B):\n",
    "        nr_lines = len(A)\n",
    "        nr_cols = len(B[-1])\n",
    "        prod = []\n",
    "        for i in range(nr_lines):\n",
    "            prod.append([])\n",
    "            for j in range(nr_cols):\n",
    "                prod[i].append(sum([A[i][k] * B[k][j] for k in range(len(A[i]))]))\n",
    "\n",
    "        return prod          \n",
    "\n",
    "    def __elimLinCol(self, A, i:int, j:int):\n",
    "        B  = [ A[k].copy() for k in range(len(A)) if k != i ]\n",
    "        for line in B:\n",
    "            line.pop(j)\n",
    "        return B\n",
    "\n",
    "    def __determinant(self, A):\n",
    "        if len(A) == 1:\n",
    "            return A[-1][-1]\n",
    "        return sum(((-1) ** j) * A[0][j] * self.__determinant(self.__elimLinCol(A,0,j)) for j in range(len(A[0])))\n",
    "\n",
    "    def __inversa(self, A):\n",
    "        dA = self.__determinant(A)\n",
    "        B = []\n",
    "        nr_lines = len(A)\n",
    "        nr_cols = len(A[-1])\n",
    "        for i in range(nr_lines):\n",
    "            B.append([])\n",
    "            for j in range(nr_cols):\n",
    "                B.append(self.__determinant(self.__elimLinCol(A,i,j))/dA)\n",
    "        \n",
    "        return B\n",
    "\n"
   ]
  },
  {
   "cell_type": "code",
   "execution_count": 56,
   "metadata": {},
   "outputs": [],
   "source": [
    "regresor = MyRegressor()"
   ]
  },
  {
   "cell_type": "code",
   "execution_count": 38,
   "metadata": {},
   "outputs": [],
   "source": [
    "import pandas as pd\n",
    "import numpy as np"
   ]
  },
  {
   "cell_type": "code",
   "execution_count": 39,
   "metadata": {},
   "outputs": [],
   "source": [
    "def getTrainingAndValidationSets(df_world_happiness):\n",
    "    dataSize = df_world_happiness.shape[0]\n",
    "    trainingIndexSet = np.random.choice(range(dataSize),size=int(0.8 * dataSize),replace=False)\n",
    "    validationIndexSet = [i for i in range(dataSize) if i not in trainingIndexSet] \n",
    "\n",
    "    trainingInputSet = [df_world_happiness[\"Economy..GDP.per.Capita.\"].iloc[index] for index in trainingIndexSet ]\n",
    "    trainingOutputSet = [df_world_happiness[\"Happiness.Score\"].iloc[index] for index in trainingIndexSet ]\n",
    "\n",
    "    validationInputSet = [df_world_happiness[\"Economy..GDP.per.Capita.\"].iloc[index] for index in validationIndexSet ]\n",
    "    validationOutputSet = [df_world_happiness[\"Happiness.Score\"].iloc[index] for index in validationIndexSet ]\n",
    "    \n",
    "    return trainingInputSet, trainingOutputSet, validationInputSet, validationOutputSet"
   ]
  },
  {
   "cell_type": "code",
   "execution_count": 35,
   "metadata": {},
   "outputs": [],
   "source": [
    "world_happiness = pd.read_csv(\"datas/v1_world-happiness-report-2017.csv\",delimiter=',', header='infer')"
   ]
  },
  {
   "cell_type": "code",
   "execution_count": 57,
   "metadata": {},
   "outputs": [
    {
     "name": "stdout",
     "output_type": "stream",
     "text": [
      "[[1, 0.907975316047668], [1, 1.25278460979462], [1, 1.31458234786987], [1, 0.932537317276001], [1, 1.63295245170593], [1, 0.368610262870789], [1, 1.46378076076508], [1, 1.15687310695648], [1, 1.54625928401947], [1, 0.603048920631409], [1, 1.3469113111496], [1, 1.19827437400818], [1, 0.36842092871666], [1, 1.40167844295502], [1, 0.728870630264282], [1, 1.62634336948395], [1, 1.26074862480164], [1, 0.438012987375259], [1, 0.0921023488044739], [1, 0.909784495830536], [1, 1.10735321044922], [1, 0.951484382152557], [1, 0.989701807498932], [1, 0.737299203872681], [1, 0.119041793048382], [1, 1.3151752948761], [1, 0.858428180217743], [1, 0.788547575473785], [1, 1.18529546260834], [1, 0.511135876178741], [1, 1.48238301277161], [1, 1.3412059545517], [1, 1.1982102394104], [1, 1.32087934017181], [1, 0.244549930095673], [1, 0.65951669216156], [1, 0.716249227523804], [1, 0.777153134346008], [1, 1.43092346191406], [1, 1.15655755996704], [1, 0.885416388511658], [1, 1.08116579055786], [1, 1.38439786434174], [1, 1.50394463539124], [1, 0.521021246910095], [1, 0.878114581108093], [1, 1.00985014438629], [1, 1.74194359779358], [1, 1.28177809715271], [1, 0.233442038297653], [1, 1.61646318435669], [1, 1.28948748111725], [1, 0.648457288742065], [1, 0.730573117733002], [1, 1.21755969524384], [1, 1.00726580619812], [1, 1.15360176563263], [1, 1.53062355518341], [1, 0.091622568666935], [1, 1.48792338371277], [1, 1.09186446666718], [1, 1.15318381786346], [1, 0.431085407733917], [1, 0.995538592338562], [1, 0.524713635444641], [1, 1.34327983856201], [1, 1.69227766990662], [1, 1.35593807697296], [1, 1.37538242340088], [1, 1.48709726333618], [1, 0.564305365085602], [1, 1.56497955322266], [1, 0.560479462146759], [1, 0.792221248149872], [1, 0.925579309463501], [1, 0.591683447360992], [1, 0.783756256103516], [1, 1.29121541976929], [1, 1.53570663928986], [1, 1.43362653255463], [1, 1.10180306434631], [1, 1.47920441627502], [1, 1.06931757926941], [1, 1.55167484283447], [1, 1.10271048545837], [1, 1.07498753070831], [1, 1.480633020401], [1, 1.40570604801178], [1, 0.786441087722778], [1, 0.305444717407227], [1, 1.02723586559296], [1, 0.85769921541214], [1, 1.36135590076447], [1, 1.12786877155304], [1, 1.05469870567322], [1, 0.982409417629242], [1, 1.2860119342804], [1, 1.44163393974304], [1, 0.401477217674255], [1, 0.808964252471924], [1, 1.44357192516327], [1, 0.586682975292206], [1, 1.49438726902008], [1, 0.476180493831635], [1, 0.72688353061676], [1, 0.161925330758095], [1, 1.18939554691315], [1, 0.375846534967422], [1, 0.381430715322495], [1, 1.48841226100922], [1, 0.234305649995804], [1, 1.41691517829895], [1, 0.479309022426605], [1, 0.950612664222717], [1, 1.87076568603516], [1, 0.305808693170547], [1, 0.0226431842893362], [1, 0.39724862575531], [1, 0.872001945972443], [1, 1.00082039833069], [1, 1.13077676296234], [1, 0.596220076084137], [1, 0.89465194940567], [1, 0.991012394428253]]\n"
     ]
    }
   ],
   "source": [
    "training_input_set, training_output_set, validation_input_set, validation_output_set = getTrainingAndValidationSets(world_happiness)\n",
    "\n",
    "training_input_set = [[el] for el in training_input_set]\n",
    "regresor.train(training_input_set, training_output_set)"
   ]
  }
 ],
 "metadata": {
  "kernelspec": {
   "display_name": "Python 3",
   "language": "python",
   "name": "python3"
  },
  "language_info": {
   "codemirror_mode": {
    "name": "ipython",
    "version": 3
   },
   "file_extension": ".py",
   "mimetype": "text/x-python",
   "name": "python",
   "nbconvert_exporter": "python",
   "pygments_lexer": "ipython3",
   "version": "3.10.13"
  }
 },
 "nbformat": 4,
 "nbformat_minor": 2
}
