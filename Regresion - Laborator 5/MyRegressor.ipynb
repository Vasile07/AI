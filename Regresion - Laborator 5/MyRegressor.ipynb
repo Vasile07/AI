{
 "cells": [
  {
   "cell_type": "code",
   "execution_count": 252,
   "metadata": {},
   "outputs": [],
   "source": [
    "import numpy as np\n",
    "\n",
    "class MyRegressor:\n",
    "    def __init__(self) -> None:\n",
    "        self.W = []\n",
    "        self.X = []\n",
    "\n",
    "    def get_parameters(self):\n",
    "        return self.W\n",
    "    \n",
    "    def predict(self,x):\n",
    "        l = []\n",
    "        for i in range(len(x)):\n",
    "            c = self.W[0]\n",
    "            for j in range(len(x[i])):\n",
    "                c += float(self.W[j+1]) * x[i][j]\n",
    "            l.append(c)\n",
    "        return l\n",
    "\n",
    "    def train(self, training_input_set, training_output_set):\n",
    "        self.X = [[1 for _ in range(len(training_input_set))],[x[-1] for x in training_input_set.copy()]]\n",
    "        XT = self.__transpose_matrix(self.X)\n",
    "        P = self.__product(XT,self.X)\n",
    "        P_Invers = self.__inversa(P)\n",
    "\n",
    "        A = self.__product(P_Invers,XT)\n",
    "        print(A.shape)\n",
    "        Y = [el for el in training_output_set.copy()]\n",
    "        print(len(Y))\n",
    "        self.W = self.__product(Y,A)\n",
    "        print(self.W)\n",
    "        \n",
    "    def __transpose_matrix(self, A):\n",
    "        n, m = len(A), len(A[-1])\n",
    "        XT = [[] for _ in range(m)]\n",
    "        for i in range(n):\n",
    "            for j in range(m):\n",
    "                XT[j].append(A[i][j])\n",
    "        return XT\n",
    "\n",
    "    def __product(self,A,B):\n",
    "        return np.matmul(A,B)\n",
    "        nr_lines = len(A)\n",
    "        nr_cols = len(B[-1])\n",
    "        prod = []\n",
    "        for i in range(nr_lines):\n",
    "            prod.append([])\n",
    "            for j in range(nr_cols):\n",
    "                prod[i].append(sum([A[i][k] * B[k][j] for k in range(len(A[i]))]))\n",
    "\n",
    "        return prod          \n",
    "\n",
    "    def __elimLinCol(self, A, i:int, j:int):\n",
    "        B  = [ A[k].copy() for k in range(len(A)) if k != i ]\n",
    "        for line in B:\n",
    "            line.pop(j)\n",
    "        return B\n",
    "\n",
    "    def __determinant(self, A):\n",
    "        return np.linalg.det(A)\n",
    "        if len(A) == 1:\n",
    "            return A[-1][-1]\n",
    "        return sum(((-1) ** j) * A[0][j] * self.__determinant(self.__elimLinCol(A,0,j)) for j in range(len(A[0])))\n",
    "\n",
    "    def __inversa(self, A):\n",
    "        return np.linalg.inv(A)\n",
    "        dA = self.__determinant(A)\n",
    "        print(dA)\n",
    "        B = []\n",
    "        nr_lines = len(A)\n",
    "        nr_cols = len(A[-1])\n",
    "        for i in range(nr_lines):\n",
    "            B.append([])\n",
    "            for j in range(nr_cols):\n",
    "                B.append(self.__determinant(self.__elimLinCol(A,i,j))/dA)\n",
    "        \n",
    "        return B\n",
    "\n"
   ]
  },
  {
   "cell_type": "code",
   "execution_count": 253,
   "metadata": {},
   "outputs": [],
   "source": [
    "regresor = MyRegressor()"
   ]
  },
  {
   "cell_type": "code",
   "execution_count": 254,
   "metadata": {},
   "outputs": [],
   "source": [
    "import pandas as pd\n",
    "import numpy as np"
   ]
  },
  {
   "cell_type": "code",
   "execution_count": 255,
   "metadata": {},
   "outputs": [],
   "source": [
    "def getTrainingAndValidationSets(df_world_happiness):\n",
    "    dataSize = df_world_happiness.shape[0]\n",
    "    trainingIndexSet = np.random.choice(range(dataSize),size=int(0.8 * dataSize),replace=False)\n",
    "    validationIndexSet = [i for i in range(dataSize) if i not in trainingIndexSet] \n",
    "\n",
    "    trainingInputSet = [df_world_happiness[\"Economy..GDP.per.Capita.\"].iloc[index] for index in trainingIndexSet ]\n",
    "    trainingOutputSet = [df_world_happiness[\"Happiness.Score\"].iloc[index] for index in trainingIndexSet ]\n",
    "\n",
    "    validationInputSet = [df_world_happiness[\"Economy..GDP.per.Capita.\"].iloc[index] for index in validationIndexSet ]\n",
    "    validationOutputSet = [df_world_happiness[\"Happiness.Score\"].iloc[index] for index in validationIndexSet ]\n",
    "    \n",
    "    return trainingInputSet, trainingOutputSet, validationInputSet, validationOutputSet"
   ]
  },
  {
   "cell_type": "code",
   "execution_count": 256,
   "metadata": {},
   "outputs": [],
   "source": [
    "world_happiness = pd.read_csv(\"datas/v1_world-happiness-report-2017.csv\",delimiter=',', header='infer')"
   ]
  },
  {
   "cell_type": "code",
   "execution_count": 257,
   "metadata": {},
   "outputs": [
    {
     "name": "stdout",
     "output_type": "stream",
     "text": [
      "(124, 2)\n",
      "124\n",
      "[ 417.44445146 -852.44222759]\n"
     ]
    }
   ],
   "source": [
    "training_input_set, training_output_set, validation_input_set, validation_output_set = getTrainingAndValidationSets(world_happiness)\n",
    "\n",
    "training_input_set1 = [[el] for el in training_input_set]\n",
    "regresor.train(training_input_set1, training_output_set)"
   ]
  },
  {
   "cell_type": "code",
   "execution_count": 258,
   "metadata": {},
   "outputs": [],
   "source": [
    "computedValidationOutputs = regresor.predict([[x] for x in validation_input_set])\n",
    "manualError = 0.0\n",
    "for t1, t2 in zip(computedValidationOutputs, validation_output_set):\n",
    "    manualError += (t1 - t2) ** 2"
   ]
  },
  {
   "cell_type": "code",
   "execution_count": 259,
   "metadata": {},
   "outputs": [
    {
     "name": "stdout",
     "output_type": "stream",
     "text": [
      "[ 417.44445146 -852.44222759]\n",
      "10152535.276574831\n"
     ]
    }
   ],
   "source": [
    "W = regresor.get_parameters()\n",
    "\n",
    "print(W)\n",
    "print(manualError)"
   ]
  },
  {
   "cell_type": "code",
   "execution_count": 261,
   "metadata": {},
   "outputs": [
    {
     "data": {
      "image/png": "[encoded data removed]",
      "text/plain": [
       "<Figure size 640x480 with 1 Axes>"
      ]
     },
     "metadata": {},
     "output_type": "display_data"
    }
   ],
   "source": [
    "import matplotlib.pyplot as plt\n",
    "\n",
    "\n",
    "w0, w1 = regresor.get_parameters()[0], regresor.get_parameters()[1]\n",
    "noOfPoints = 1000\n",
    "xref = []\n",
    "val = min(training_input_set)\n",
    "step = (max(training_input_set) - min(training_input_set)) / noOfPoints\n",
    "for i in range(1, noOfPoints):\n",
    "    xref.append(val)\n",
    "    val += step\n",
    "yref = [w0 + w1 * el for el in xref] \n",
    "\n",
    "fix,axes = plt.subplots()\n",
    "\n",
    "axes.plot(training_input_set, training_output_set, 'ro', label = 'training data')  #train data are plotted by red and circle sign\n",
    "axes.plot(xref, yref, 'b-', label = 'learnt model')                  #model is plotted by a blue line\n",
    "axes.set_title('train data and the learnt model')\n",
    "axes.set_xlabel('GDP')\n",
    "axes.set_ylabel('happiness')\n",
    "axes.legend()\n",
    "plt.show()"
   ]
  }
 ],
 "metadata": {
  "kernelspec": {
   "display_name": "Python 3",
   "language": "python",
   "name": "python3"
  },
  "language_info": {
   "codemirror_mode": {
    "name": "ipython",
    "version": 3
   },
   "file_extension": ".py",
   "mimetype": "text/x-python",
   "name": "python",
   "nbconvert_exporter": "python",
   "pygments_lexer": "ipython3",
   "version": "3.10.13"
  }
 },
 "nbformat": 4,
 "nbformat_minor": 2
}
